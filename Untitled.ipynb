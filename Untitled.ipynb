{
 "cells": [
  {
   "cell_type": "code",
   "execution_count": 1,
   "metadata": {},
   "outputs": [],
   "source": [
    "from sklearn.feature_extraction.text import TfidfVectorizer, CountVectorizer\n",
    "from sklearn.metrics import confusion_matrix\n",
    "from sklearn.metrics import classification_report\n",
    "from sklearn.model_selection import cross_val_score\n",
    "from sklearn.model_selection import cross_val_predict\n",
    "from sklearn.model_selection import train_test_split\n",
    "from sklearn.preprocessing import StandardScaler\n",
    "from sklearn.svm import LinearSVC\n",
    "from sklearn.tree import DecisionTreeClassifier\n",
    "from sklearn import tree"
   ]
  },
  {
   "cell_type": "code",
   "execution_count": 2,
   "metadata": {},
   "outputs": [],
   "source": [
    "with open(\"train.txt\", encoding=\"utf8\") as f:\n",
    "    tickets = f.read().strip().split(\"\\n\")\n",
    "    \n",
    "with open(\"test.txt\", encoding=\"utf8\") as f:\n",
    "    labels = f.read().strip().split(\"\\n\")"
   ]
  },
  {
   "cell_type": "code",
   "execution_count": 3,
   "metadata": {},
   "outputs": [],
   "source": [
    "X_train, X_test, y_train, y_test = train_test_split(tickets, labels, test_size=0.1, random_state=1337)"
   ]
  },
  {
   "cell_type": "code",
   "execution_count": 4,
   "metadata": {},
   "outputs": [
    {
     "name": "stdout",
     "output_type": "stream",
     "text": [
      "              precision    recall  f1-score   support\n",
      "\n",
      "           0       0.93      0.97      0.95       558\n",
      "           1       0.10      0.05      0.06        42\n",
      "\n",
      "    accuracy                           0.90       600\n",
      "   macro avg       0.52      0.51      0.51       600\n",
      "weighted avg       0.87      0.90      0.89       600\n",
      "\n"
     ]
    },
    {
     "name": "stderr",
     "output_type": "stream",
     "text": [
      "C:\\Users\\Billy-PC\\Anaconda3\\lib\\site-packages\\sklearn\\svm\\base.py:929: ConvergenceWarning: Liblinear failed to converge, increase the number of iterations.\n",
      "  \"the number of iterations.\", ConvergenceWarning)\n"
     ]
    }
   ],
   "source": [
    "vectorizer = CountVectorizer()\n",
    "svm = LinearSVC()\n",
    "X_train = vectorizer.fit_transform(X_train)\n",
    "X_test = vectorizer.transform(X_test)\n",
    "_ = svm.fit(X_train, y_train)\n",
    "y_pred = svm.predict(X_test)\n",
    "print(classification_report(y_test, y_pred))"
   ]
  },
  {
   "cell_type": "code",
   "execution_count": 5,
   "metadata": {},
   "outputs": [
    {
     "name": "stdout",
     "output_type": "stream",
     "text": [
      "[[540  18]\n",
      " [ 40   2]]\n"
     ]
    }
   ],
   "source": [
    "print(confusion_matrix(y_test, y_pred))"
   ]
  },
  {
   "cell_type": "code",
   "execution_count": 6,
   "metadata": {},
   "outputs": [
    {
     "name": "stdout",
     "output_type": "stream",
     "text": [
      "              precision    recall  f1-score   support\n",
      "\n",
      "           0       0.93      1.00      0.96       558\n",
      "           1       0.00      0.00      0.00        42\n",
      "\n",
      "    accuracy                           0.93       600\n",
      "   macro avg       0.47      0.50      0.48       600\n",
      "weighted avg       0.86      0.93      0.90       600\n",
      "\n",
      "[[558   0]\n",
      " [ 42   0]]\n"
     ]
    },
    {
     "name": "stderr",
     "output_type": "stream",
     "text": [
      "C:\\Users\\Billy-PC\\Anaconda3\\lib\\site-packages\\sklearn\\metrics\\classification.py:1437: UndefinedMetricWarning: Precision and F-score are ill-defined and being set to 0.0 in labels with no predicted samples.\n",
      "  'precision', 'predicted', average, warn_for)\n"
     ]
    }
   ],
   "source": [
    "dt = DecisionTreeClassifier(max_depth=4)\n",
    "dt.fit(X_train, y_train)\n",
    "y_pred = dt.predict(X_test)\n",
    "print(classification_report(y_test, y_pred))\n",
    "print(confusion_matrix(y_test, y_pred))"
   ]
  },
  {
   "cell_type": "code",
   "execution_count": 7,
   "metadata": {},
   "outputs": [
    {
     "data": {
      "image/svg+xml": [
       "<svg height=\"552pt\" viewBox=\"0.00 0.00 675.00 552.00\" width=\"675pt\" xmlns=\"http://www.w3.org/2000/svg\" xmlns:xlink=\"http://www.w3.org/1999/xlink\">\n",
       "<g class=\"graph\" id=\"graph0\" transform=\"scale(1 1) rotate(0) translate(4 548)\">\n",
       "<title>Tree</title>\n",
       "<polygon fill=\"white\" points=\"-4,4 -4,-548 671,-548 671,4 -4,4\" stroke=\"none\"/>\n",
       "<!-- 0 -->\n",
       "<g class=\"node\" id=\"node1\"><title>0</title>\n",
       "<polygon fill=\"#e78a48\" points=\"516,-544 391,-544 391,-461 516,-461 516,-544\" stroke=\"black\"/>\n",
       "<text font-family=\"Times New Roman,serif\" font-size=\"14.00\" text-anchor=\"middle\" x=\"453.5\" y=\"-528.8\">mylife &lt;= 0.5</text>\n",
       "<text font-family=\"Times New Roman,serif\" font-size=\"14.00\" text-anchor=\"middle\" x=\"453.5\" y=\"-513.8\">gini = 0.129</text>\n",
       "<text font-family=\"Times New Roman,serif\" font-size=\"14.00\" text-anchor=\"middle\" x=\"453.5\" y=\"-498.8\">samples = 5399</text>\n",
       "<text font-family=\"Times New Roman,serif\" font-size=\"14.00\" text-anchor=\"middle\" x=\"453.5\" y=\"-483.8\">value = [5024, 375]</text>\n",
       "<text font-family=\"Times New Roman,serif\" font-size=\"14.00\" text-anchor=\"middle\" x=\"453.5\" y=\"-468.8\">class = 3</text>\n",
       "</g>\n",
       "<!-- 1 -->\n",
       "<g class=\"node\" id=\"node2\"><title>1</title>\n",
       "<polygon fill=\"#e78a48\" points=\"453,-425 328,-425 328,-342 453,-342 453,-425\" stroke=\"black\"/>\n",
       "<text font-family=\"Times New Roman,serif\" font-size=\"14.00\" text-anchor=\"middle\" x=\"390.5\" y=\"-409.8\">tokyo &lt;= 0.5</text>\n",
       "<text font-family=\"Times New Roman,serif\" font-size=\"14.00\" text-anchor=\"middle\" x=\"390.5\" y=\"-394.8\">gini = 0.128</text>\n",
       "<text font-family=\"Times New Roman,serif\" font-size=\"14.00\" text-anchor=\"middle\" x=\"390.5\" y=\"-379.8\">samples = 5395</text>\n",
       "<text font-family=\"Times New Roman,serif\" font-size=\"14.00\" text-anchor=\"middle\" x=\"390.5\" y=\"-364.8\">value = [5023, 372]</text>\n",
       "<text font-family=\"Times New Roman,serif\" font-size=\"14.00\" text-anchor=\"middle\" x=\"390.5\" y=\"-349.8\">class = 3</text>\n",
       "</g>\n",
       "<!-- 0&#45;&gt;1 -->\n",
       "<g class=\"edge\" id=\"edge1\"><title>0-&gt;1</title>\n",
       "<path d=\"M431.642,-460.907C426.951,-452.195 421.944,-442.897 417.096,-433.893\" fill=\"none\" stroke=\"black\"/>\n",
       "<polygon fill=\"black\" points=\"420.142,-432.166 412.319,-425.021 413.978,-435.485 420.142,-432.166\" stroke=\"black\"/>\n",
       "<text font-family=\"Times New Roman,serif\" font-size=\"14.00\" text-anchor=\"middle\" x=\"405.135\" y=\"-445.266\">True</text>\n",
       "</g>\n",
       "<!-- 12 -->\n",
       "<g class=\"node\" id=\"node13\"><title>12</title>\n",
       "<polygon fill=\"#7bbeee\" points=\"562,-425 471,-425 471,-342 562,-342 562,-425\" stroke=\"black\"/>\n",
       "<text font-family=\"Times New Roman,serif\" font-size=\"14.00\" text-anchor=\"middle\" x=\"516.5\" y=\"-409.8\">âƒã &lt;= 1.0</text>\n",
       "<text font-family=\"Times New Roman,serif\" font-size=\"14.00\" text-anchor=\"middle\" x=\"516.5\" y=\"-394.8\">gini = 0.375</text>\n",
       "<text font-family=\"Times New Roman,serif\" font-size=\"14.00\" text-anchor=\"middle\" x=\"516.5\" y=\"-379.8\">samples = 4</text>\n",
       "<text font-family=\"Times New Roman,serif\" font-size=\"14.00\" text-anchor=\"middle\" x=\"516.5\" y=\"-364.8\">value = [1, 3]</text>\n",
       "<text font-family=\"Times New Roman,serif\" font-size=\"14.00\" text-anchor=\"middle\" x=\"516.5\" y=\"-349.8\">class = 1</text>\n",
       "</g>\n",
       "<!-- 0&#45;&gt;12 -->\n",
       "<g class=\"edge\" id=\"edge12\"><title>0-&gt;12</title>\n",
       "<path d=\"M475.358,-460.907C480.049,-452.195 485.056,-442.897 489.904,-433.893\" fill=\"none\" stroke=\"black\"/>\n",
       "<polygon fill=\"black\" points=\"493.022,-435.485 494.681,-425.021 486.858,-432.166 493.022,-435.485\" stroke=\"black\"/>\n",
       "<text font-family=\"Times New Roman,serif\" font-size=\"14.00\" text-anchor=\"middle\" x=\"501.865\" y=\"-445.266\">False</text>\n",
       "</g>\n",
       "<!-- 2 -->\n",
       "<g class=\"node\" id=\"node3\"><title>2</title>\n",
       "<polygon fill=\"#e78a48\" points=\"332,-306 207,-306 207,-223 332,-223 332,-306\" stroke=\"black\"/>\n",
       "<text font-family=\"Times New Roman,serif\" font-size=\"14.00\" text-anchor=\"middle\" x=\"269.5\" y=\"-290.8\">79 &lt;= 0.5</text>\n",
       "<text font-family=\"Times New Roman,serif\" font-size=\"14.00\" text-anchor=\"middle\" x=\"269.5\" y=\"-275.8\">gini = 0.127</text>\n",
       "<text font-family=\"Times New Roman,serif\" font-size=\"14.00\" text-anchor=\"middle\" x=\"269.5\" y=\"-260.8\">samples = 5388</text>\n",
       "<text font-family=\"Times New Roman,serif\" font-size=\"14.00\" text-anchor=\"middle\" x=\"269.5\" y=\"-245.8\">value = [5020, 368]</text>\n",
       "<text font-family=\"Times New Roman,serif\" font-size=\"14.00\" text-anchor=\"middle\" x=\"269.5\" y=\"-230.8\">class = 3</text>\n",
       "</g>\n",
       "<!-- 1&#45;&gt;2 -->\n",
       "<g class=\"edge\" id=\"edge2\"><title>1-&gt;2</title>\n",
       "<path d=\"M348.52,-341.907C338.947,-332.651 328.689,-322.732 318.84,-313.209\" fill=\"none\" stroke=\"black\"/>\n",
       "<polygon fill=\"black\" points=\"321.028,-310.456 311.406,-306.021 316.162,-315.488 321.028,-310.456\" stroke=\"black\"/>\n",
       "</g>\n",
       "<!-- 7 -->\n",
       "<g class=\"node\" id=\"node8\"><title>7</title>\n",
       "<polygon fill=\"#cee6f8\" points=\"441,-306 350,-306 350,-223 441,-223 441,-306\" stroke=\"black\"/>\n",
       "<text font-family=\"Times New Roman,serif\" font-size=\"14.00\" text-anchor=\"middle\" x=\"395.5\" y=\"-290.8\">wiwt &lt;= 0.5</text>\n",
       "<text font-family=\"Times New Roman,serif\" font-size=\"14.00\" text-anchor=\"middle\" x=\"395.5\" y=\"-275.8\">gini = 0.49</text>\n",
       "<text font-family=\"Times New Roman,serif\" font-size=\"14.00\" text-anchor=\"middle\" x=\"395.5\" y=\"-260.8\">samples = 7</text>\n",
       "<text font-family=\"Times New Roman,serif\" font-size=\"14.00\" text-anchor=\"middle\" x=\"395.5\" y=\"-245.8\">value = [3, 4]</text>\n",
       "<text font-family=\"Times New Roman,serif\" font-size=\"14.00\" text-anchor=\"middle\" x=\"395.5\" y=\"-230.8\">class = 1</text>\n",
       "</g>\n",
       "<!-- 1&#45;&gt;7 -->\n",
       "<g class=\"edge\" id=\"edge7\"><title>1-&gt;7</title>\n",
       "<path d=\"M392.235,-341.907C392.592,-333.558 392.971,-324.671 393.341,-316.02\" fill=\"none\" stroke=\"black\"/>\n",
       "<polygon fill=\"black\" points=\"396.838,-316.161 393.768,-306.021 389.844,-315.862 396.838,-316.161\" stroke=\"black\"/>\n",
       "</g>\n",
       "<!-- 3 -->\n",
       "<g class=\"node\" id=\"node4\"><title>3</title>\n",
       "<polygon fill=\"#e78a47\" points=\"215,-187 90,-187 90,-104 215,-104 215,-187\" stroke=\"black\"/>\n",
       "<text font-family=\"Times New Roman,serif\" font-size=\"14.00\" text-anchor=\"middle\" x=\"152.5\" y=\"-171.8\">essex &lt;= 0.5</text>\n",
       "<text font-family=\"Times New Roman,serif\" font-size=\"14.00\" text-anchor=\"middle\" x=\"152.5\" y=\"-156.8\">gini = 0.127</text>\n",
       "<text font-family=\"Times New Roman,serif\" font-size=\"14.00\" text-anchor=\"middle\" x=\"152.5\" y=\"-141.8\">samples = 5386</text>\n",
       "<text font-family=\"Times New Roman,serif\" font-size=\"14.00\" text-anchor=\"middle\" x=\"152.5\" y=\"-126.8\">value = [5020, 366]</text>\n",
       "<text font-family=\"Times New Roman,serif\" font-size=\"14.00\" text-anchor=\"middle\" x=\"152.5\" y=\"-111.8\">class = 3</text>\n",
       "</g>\n",
       "<!-- 2&#45;&gt;3 -->\n",
       "<g class=\"edge\" id=\"edge3\"><title>2-&gt;3</title>\n",
       "<path d=\"M228.907,-222.907C219.651,-213.651 209.732,-203.732 200.209,-194.209\" fill=\"none\" stroke=\"black\"/>\n",
       "<polygon fill=\"black\" points=\"202.567,-191.617 193.021,-187.021 197.617,-196.567 202.567,-191.617\" stroke=\"black\"/>\n",
       "</g>\n",
       "<!-- 6 -->\n",
       "<g class=\"node\" id=\"node7\"><title>6</title>\n",
       "<polygon fill=\"#399de5\" points=\"324,-179.5 233,-179.5 233,-111.5 324,-111.5 324,-179.5\" stroke=\"black\"/>\n",
       "<text font-family=\"Times New Roman,serif\" font-size=\"14.00\" text-anchor=\"middle\" x=\"278.5\" y=\"-164.3\">gini = 0.0</text>\n",
       "<text font-family=\"Times New Roman,serif\" font-size=\"14.00\" text-anchor=\"middle\" x=\"278.5\" y=\"-149.3\">samples = 2</text>\n",
       "<text font-family=\"Times New Roman,serif\" font-size=\"14.00\" text-anchor=\"middle\" x=\"278.5\" y=\"-134.3\">value = [0, 2]</text>\n",
       "<text font-family=\"Times New Roman,serif\" font-size=\"14.00\" text-anchor=\"middle\" x=\"278.5\" y=\"-119.3\">class = 1</text>\n",
       "</g>\n",
       "<!-- 2&#45;&gt;6 -->\n",
       "<g class=\"edge\" id=\"edge6\"><title>2-&gt;6</title>\n",
       "<path d=\"M272.623,-222.907C273.446,-212.204 274.337,-200.615 275.171,-189.776\" fill=\"none\" stroke=\"black\"/>\n",
       "<polygon fill=\"black\" points=\"278.671,-189.906 275.949,-179.667 271.692,-189.369 278.671,-189.906\" stroke=\"black\"/>\n",
       "</g>\n",
       "<!-- 4 -->\n",
       "<g class=\"node\" id=\"node5\"><title>4</title>\n",
       "<polygon fill=\"#e78a47\" points=\"125,-68 0,-68 0,-0 125,-0 125,-68\" stroke=\"black\"/>\n",
       "<text font-family=\"Times New Roman,serif\" font-size=\"14.00\" text-anchor=\"middle\" x=\"62.5\" y=\"-52.8\">gini = 0.126</text>\n",
       "<text font-family=\"Times New Roman,serif\" font-size=\"14.00\" text-anchor=\"middle\" x=\"62.5\" y=\"-37.8\">samples = 5384</text>\n",
       "<text font-family=\"Times New Roman,serif\" font-size=\"14.00\" text-anchor=\"middle\" x=\"62.5\" y=\"-22.8\">value = [5020, 364]</text>\n",
       "<text font-family=\"Times New Roman,serif\" font-size=\"14.00\" text-anchor=\"middle\" x=\"62.5\" y=\"-7.8\">class = 3</text>\n",
       "</g>\n",
       "<!-- 3&#45;&gt;4 -->\n",
       "<g class=\"edge\" id=\"edge4\"><title>3-&gt;4</title>\n",
       "<path d=\"M118.987,-103.726C111.566,-94.6966 103.697,-85.1235 96.2657,-76.0816\" fill=\"none\" stroke=\"black\"/>\n",
       "<polygon fill=\"black\" points=\"98.9231,-73.8026 89.8695,-68.2996 93.5153,-78.2474 98.9231,-73.8026\" stroke=\"black\"/>\n",
       "</g>\n",
       "<!-- 5 -->\n",
       "<g class=\"node\" id=\"node6\"><title>5</title>\n",
       "<polygon fill=\"#399de5\" points=\"234,-68 143,-68 143,-0 234,-0 234,-68\" stroke=\"black\"/>\n",
       "<text font-family=\"Times New Roman,serif\" font-size=\"14.00\" text-anchor=\"middle\" x=\"188.5\" y=\"-52.8\">gini = 0.0</text>\n",
       "<text font-family=\"Times New Roman,serif\" font-size=\"14.00\" text-anchor=\"middle\" x=\"188.5\" y=\"-37.8\">samples = 2</text>\n",
       "<text font-family=\"Times New Roman,serif\" font-size=\"14.00\" text-anchor=\"middle\" x=\"188.5\" y=\"-22.8\">value = [0, 2]</text>\n",
       "<text font-family=\"Times New Roman,serif\" font-size=\"14.00\" text-anchor=\"middle\" x=\"188.5\" y=\"-7.8\">class = 1</text>\n",
       "</g>\n",
       "<!-- 3&#45;&gt;5 -->\n",
       "<g class=\"edge\" id=\"edge5\"><title>3-&gt;5</title>\n",
       "<path d=\"M165.905,-103.726C168.664,-95.3351 171.577,-86.4745 174.361,-78.0072\" fill=\"none\" stroke=\"black\"/>\n",
       "<polygon fill=\"black\" points=\"177.754,-78.8925 177.552,-68.2996 171.104,-76.7062 177.754,-78.8925\" stroke=\"black\"/>\n",
       "</g>\n",
       "<!-- 8 -->\n",
       "<g class=\"node\" id=\"node9\"><title>8</title>\n",
       "<polygon fill=\"#6ab6ec\" points=\"433,-187 342,-187 342,-104 433,-104 433,-187\" stroke=\"black\"/>\n",
       "<text font-family=\"Times New Roman,serif\" font-size=\"14.00\" text-anchor=\"middle\" x=\"387.5\" y=\"-171.8\">2020 &lt;= 0.5</text>\n",
       "<text font-family=\"Times New Roman,serif\" font-size=\"14.00\" text-anchor=\"middle\" x=\"387.5\" y=\"-156.8\">gini = 0.32</text>\n",
       "<text font-family=\"Times New Roman,serif\" font-size=\"14.00\" text-anchor=\"middle\" x=\"387.5\" y=\"-141.8\">samples = 5</text>\n",
       "<text font-family=\"Times New Roman,serif\" font-size=\"14.00\" text-anchor=\"middle\" x=\"387.5\" y=\"-126.8\">value = [1, 4]</text>\n",
       "<text font-family=\"Times New Roman,serif\" font-size=\"14.00\" text-anchor=\"middle\" x=\"387.5\" y=\"-111.8\">class = 1</text>\n",
       "</g>\n",
       "<!-- 7&#45;&gt;8 -->\n",
       "<g class=\"edge\" id=\"edge8\"><title>7-&gt;8</title>\n",
       "<path d=\"M392.724,-222.907C392.154,-214.558 391.546,-205.671 390.954,-197.02\" fill=\"none\" stroke=\"black\"/>\n",
       "<polygon fill=\"black\" points=\"394.445,-196.759 390.271,-187.021 387.461,-197.236 394.445,-196.759\" stroke=\"black\"/>\n",
       "</g>\n",
       "<!-- 11 -->\n",
       "<g class=\"node\" id=\"node12\"><title>11</title>\n",
       "<polygon fill=\"#e58139\" points=\"542,-179.5 451,-179.5 451,-111.5 542,-111.5 542,-179.5\" stroke=\"black\"/>\n",
       "<text font-family=\"Times New Roman,serif\" font-size=\"14.00\" text-anchor=\"middle\" x=\"496.5\" y=\"-164.3\">gini = 0.0</text>\n",
       "<text font-family=\"Times New Roman,serif\" font-size=\"14.00\" text-anchor=\"middle\" x=\"496.5\" y=\"-149.3\">samples = 2</text>\n",
       "<text font-family=\"Times New Roman,serif\" font-size=\"14.00\" text-anchor=\"middle\" x=\"496.5\" y=\"-134.3\">value = [2, 0]</text>\n",
       "<text font-family=\"Times New Roman,serif\" font-size=\"14.00\" text-anchor=\"middle\" x=\"496.5\" y=\"-119.3\">class = 3</text>\n",
       "</g>\n",
       "<!-- 7&#45;&gt;11 -->\n",
       "<g class=\"edge\" id=\"edge11\"><title>7-&gt;11</title>\n",
       "<path d=\"M430.541,-222.907C440.448,-211.432 451.233,-198.938 461.157,-187.442\" fill=\"none\" stroke=\"black\"/>\n",
       "<polygon fill=\"black\" points=\"463.984,-189.524 467.869,-179.667 458.685,-184.95 463.984,-189.524\" stroke=\"black\"/>\n",
       "</g>\n",
       "<!-- 9 -->\n",
       "<g class=\"node\" id=\"node10\"><title>9</title>\n",
       "<polygon fill=\"#399de5\" points=\"379,-68 288,-68 288,-0 379,-0 379,-68\" stroke=\"black\"/>\n",
       "<text font-family=\"Times New Roman,serif\" font-size=\"14.00\" text-anchor=\"middle\" x=\"333.5\" y=\"-52.8\">gini = 0.0</text>\n",
       "<text font-family=\"Times New Roman,serif\" font-size=\"14.00\" text-anchor=\"middle\" x=\"333.5\" y=\"-37.8\">samples = 4</text>\n",
       "<text font-family=\"Times New Roman,serif\" font-size=\"14.00\" text-anchor=\"middle\" x=\"333.5\" y=\"-22.8\">value = [0, 4]</text>\n",
       "<text font-family=\"Times New Roman,serif\" font-size=\"14.00\" text-anchor=\"middle\" x=\"333.5\" y=\"-7.8\">class = 1</text>\n",
       "</g>\n",
       "<!-- 8&#45;&gt;9 -->\n",
       "<g class=\"edge\" id=\"edge9\"><title>8-&gt;9</title>\n",
       "<path d=\"M367.392,-103.726C363.164,-95.1527 358.695,-86.0891 354.437,-77.4555\" fill=\"none\" stroke=\"black\"/>\n",
       "<polygon fill=\"black\" points=\"357.484,-75.7203 349.922,-68.2996 351.206,-78.8164 357.484,-75.7203\" stroke=\"black\"/>\n",
       "</g>\n",
       "<!-- 10 -->\n",
       "<g class=\"node\" id=\"node11\"><title>10</title>\n",
       "<polygon fill=\"#e58139\" points=\"488,-68 397,-68 397,-0 488,-0 488,-68\" stroke=\"black\"/>\n",
       "<text font-family=\"Times New Roman,serif\" font-size=\"14.00\" text-anchor=\"middle\" x=\"442.5\" y=\"-52.8\">gini = 0.0</text>\n",
       "<text font-family=\"Times New Roman,serif\" font-size=\"14.00\" text-anchor=\"middle\" x=\"442.5\" y=\"-37.8\">samples = 1</text>\n",
       "<text font-family=\"Times New Roman,serif\" font-size=\"14.00\" text-anchor=\"middle\" x=\"442.5\" y=\"-22.8\">value = [1, 0]</text>\n",
       "<text font-family=\"Times New Roman,serif\" font-size=\"14.00\" text-anchor=\"middle\" x=\"442.5\" y=\"-7.8\">class = 3</text>\n",
       "</g>\n",
       "<!-- 8&#45;&gt;10 -->\n",
       "<g class=\"edge\" id=\"edge10\"><title>8-&gt;10</title>\n",
       "<path d=\"M407.98,-103.726C412.286,-95.1527 416.839,-86.0891 421.175,-77.4555\" fill=\"none\" stroke=\"black\"/>\n",
       "<polygon fill=\"black\" points=\"424.413,-78.8067 425.774,-68.2996 418.158,-75.6647 424.413,-78.8067\" stroke=\"black\"/>\n",
       "</g>\n",
       "<!-- 13 -->\n",
       "<g class=\"node\" id=\"node14\"><title>13</title>\n",
       "<polygon fill=\"#399de5\" points=\"558,-298.5 467,-298.5 467,-230.5 558,-230.5 558,-298.5\" stroke=\"black\"/>\n",
       "<text font-family=\"Times New Roman,serif\" font-size=\"14.00\" text-anchor=\"middle\" x=\"512.5\" y=\"-283.3\">gini = 0.0</text>\n",
       "<text font-family=\"Times New Roman,serif\" font-size=\"14.00\" text-anchor=\"middle\" x=\"512.5\" y=\"-268.3\">samples = 3</text>\n",
       "<text font-family=\"Times New Roman,serif\" font-size=\"14.00\" text-anchor=\"middle\" x=\"512.5\" y=\"-253.3\">value = [0, 3]</text>\n",
       "<text font-family=\"Times New Roman,serif\" font-size=\"14.00\" text-anchor=\"middle\" x=\"512.5\" y=\"-238.3\">class = 1</text>\n",
       "</g>\n",
       "<!-- 12&#45;&gt;13 -->\n",
       "<g class=\"edge\" id=\"edge13\"><title>12-&gt;13</title>\n",
       "<path d=\"M515.112,-341.907C514.746,-331.204 514.35,-319.615 513.98,-308.776\" fill=\"none\" stroke=\"black\"/>\n",
       "<polygon fill=\"black\" points=\"517.474,-308.541 513.634,-298.667 510.478,-308.781 517.474,-308.541\" stroke=\"black\"/>\n",
       "</g>\n",
       "<!-- 14 -->\n",
       "<g class=\"node\" id=\"node15\"><title>14</title>\n",
       "<polygon fill=\"#e58139\" points=\"667,-298.5 576,-298.5 576,-230.5 667,-230.5 667,-298.5\" stroke=\"black\"/>\n",
       "<text font-family=\"Times New Roman,serif\" font-size=\"14.00\" text-anchor=\"middle\" x=\"621.5\" y=\"-283.3\">gini = 0.0</text>\n",
       "<text font-family=\"Times New Roman,serif\" font-size=\"14.00\" text-anchor=\"middle\" x=\"621.5\" y=\"-268.3\">samples = 1</text>\n",
       "<text font-family=\"Times New Roman,serif\" font-size=\"14.00\" text-anchor=\"middle\" x=\"621.5\" y=\"-253.3\">value = [1, 0]</text>\n",
       "<text font-family=\"Times New Roman,serif\" font-size=\"14.00\" text-anchor=\"middle\" x=\"621.5\" y=\"-238.3\">class = 3</text>\n",
       "</g>\n",
       "<!-- 12&#45;&gt;14 -->\n",
       "<g class=\"edge\" id=\"edge14\"><title>12-&gt;14</title>\n",
       "<path d=\"M552.929,-341.907C563.327,-330.321 574.656,-317.698 585.055,-306.111\" fill=\"none\" stroke=\"black\"/>\n",
       "<polygon fill=\"black\" points=\"587.661,-308.447 591.735,-298.667 582.451,-303.772 587.661,-308.447\" stroke=\"black\"/>\n",
       "</g>\n",
       "</g>\n",
       "</svg>"
      ],
      "text/plain": [
       "<IPython.core.display.SVG object>"
      ]
     },
     "metadata": {},
     "output_type": "display_data"
    }
   ],
   "source": [
    "from IPython.display import SVG\n",
    "from graphviz import Source\n",
    "from IPython.display import display\n",
    "graph = Source(\n",
    "    tree.export_graphviz(\n",
    "        dt,\n",
    "        out_file=None,\n",
    "        feature_names=vectorizer.get_feature_names(),\n",
    "        class_names=['3', '1', '2', '0'],\n",
    "        filled = True)\n",
    ")\n",
    "display(SVG(graph.pipe(format='svg')))"
   ]
  },
  {
   "cell_type": "code",
   "execution_count": 8,
   "metadata": {},
   "outputs": [],
   "source": [
    "tree.export_graphviz(\n",
    "        dt,\n",
    "        out_file=\"tree.dot\",\n",
    "        feature_names=vectorizer.get_feature_names(),\n",
    "        class_names=dt.classes_,\n",
    "        filled = True\n",
    ")"
   ]
  },
  {
   "cell_type": "code",
   "execution_count": 9,
   "metadata": {},
   "outputs": [
    {
     "data": {
      "text/plain": [
       "DecisionTreeClassifier(class_weight=None, criterion='entropy', max_depth=None,\n",
       "                       max_features=None, max_leaf_nodes=None,\n",
       "                       min_impurity_decrease=0.0, min_impurity_split=None,\n",
       "                       min_samples_leaf=1, min_samples_split=2,\n",
       "                       min_weight_fraction_leaf=0.0, presort=False,\n",
       "                       random_state=None, splitter='best')"
      ]
     },
     "execution_count": 9,
     "metadata": {},
     "output_type": "execute_result"
    }
   ],
   "source": [
    "model = DecisionTreeClassifier(criterion=\"entropy\")\n",
    "model.fit(X_train, y_train)"
   ]
  },
  {
   "cell_type": "code",
   "execution_count": null,
   "metadata": {},
   "outputs": [],
   "source": []
  }
 ],
 "metadata": {
  "kernelspec": {
   "display_name": "Python 3",
   "language": "python",
   "name": "python3"
  },
  "language_info": {
   "codemirror_mode": {
    "name": "ipython",
    "version": 3
   },
   "file_extension": ".py",
   "mimetype": "text/x-python",
   "name": "python",
   "nbconvert_exporter": "python",
   "pygments_lexer": "ipython3",
   "version": "3.7.4"
  }
 },
 "nbformat": 4,
 "nbformat_minor": 4
}
